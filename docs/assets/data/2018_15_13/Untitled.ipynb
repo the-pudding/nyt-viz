{
 "cells": [
  {
   "cell_type": "code",
   "execution_count": 1,
   "metadata": {},
   "outputs": [],
   "source": [
    "import pandas as pd"
   ]
  },
  {
   "cell_type": "code",
   "execution_count": 2,
   "metadata": {},
   "outputs": [],
   "source": [
    "df0 = pd.read_csv('term_article_pairs_1900s.csv')\n",
    "df1 = pd.read_csv('term_article_pairs_1900s.csv')\n",
    "df2 = pd.read_csv('term_article_pairs_1900s.csv')\n",
    "df3 = pd.read_csv('term_article_pairs_1900s.csv')\n",
    "df4 = pd.read_csv('term_article_pairs_1900s.csv')\n",
    "df5 = pd.read_csv('term_article_pairs_1900s.csv')\n",
    "df6 = pd.read_csv('term_article_pairs_1900s.csv')\n",
    "df7 = pd.read_csv('term_article_pairs_1900s.csv')"
   ]
  },
  {
   "cell_type": "code",
   "execution_count": 4,
   "metadata": {},
   "outputs": [],
   "source": [
    "dfoverall = pd.concat([df0,df1,df2,df3,df4,df5,df6,df7])"
   ]
  },
  {
   "cell_type": "code",
   "execution_count": 6,
   "metadata": {},
   "outputs": [],
   "source": [
    "dfoverall.to_csv('term_article_pairs_overall.csv')"
   ]
  },
  {
   "cell_type": "code",
   "execution_count": null,
   "metadata": {},
   "outputs": [],
   "source": []
  }
 ],
 "metadata": {
  "kernelspec": {
   "display_name": "Python 3",
   "language": "python",
   "name": "python3"
  },
  "language_info": {
   "codemirror_mode": {
    "name": "ipython",
    "version": 3
   },
   "file_extension": ".py",
   "mimetype": "text/x-python",
   "name": "python",
   "nbconvert_exporter": "python",
   "pygments_lexer": "ipython3",
   "version": "3.6.5"
  }
 },
 "nbformat": 4,
 "nbformat_minor": 2
}
